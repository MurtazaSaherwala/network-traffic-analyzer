{
 "cells": [
  {
   "cell_type": "code",
   "execution_count": 2,
   "metadata": {},
   "outputs": [
    {
     "name": "stdout",
     "output_type": "stream",
     "text": [
      "Defaulting to user installation because normal site-packages is not writeable\n",
      "Requirement already satisfied: scapy in /Users/apple/Library/Python/3.9/lib/python/site-packages (2.6.1)\n",
      "Requirement already satisfied: pyshark in /Users/apple/Library/Python/3.9/lib/python/site-packages (0.6)\n",
      "Requirement already satisfied: termcolor in /Users/apple/Library/Python/3.9/lib/python/site-packages (from pyshark) (1.1.0)\n",
      "Requirement already satisfied: appdirs in /Users/apple/Library/Python/3.9/lib/python/site-packages (from pyshark) (1.4.4)\n",
      "Requirement already satisfied: packaging in /Users/apple/Library/Python/3.9/lib/python/site-packages (from pyshark) (24.1)\n",
      "Requirement already satisfied: lxml in /Users/apple/Library/Python/3.9/lib/python/site-packages (from pyshark) (5.3.1)\n",
      "\u001b[33mWARNING: You are using pip version 21.2.4; however, version 25.0.1 is available.\n",
      "You should consider upgrading via the '/Library/Developer/CommandLineTools/usr/bin/python3 -m pip install --upgrade pip' command.\u001b[0m\n",
      "Note: you may need to restart the kernel to use updated packages.\n"
     ]
    }
   ],
   "source": [
    "pip install scapy pyshark"
   ]
  },
  {
   "cell_type": "code",
   "execution_count": 7,
   "metadata": {},
   "outputs": [],
   "source": [
    "from scapy.all import sniff, TCP, IP, UDP, DNS"
   ]
  },
  {
   "cell_type": "code",
   "execution_count": null,
   "metadata": {},
   "outputs": [
    {
     "name": "stdout",
     "output_type": "stream",
     "text": [
      "###[ Ethernet ]###\n",
      "  dst       = d8:07:b6:ec:33:a2\n",
      "  src       = 0e:11:78:36:0a:ba\n",
      "  type      = IPv4\n",
      "###[ IP ]###\n",
      "     version   = 4\n",
      "     ihl       = 5\n",
      "     tos       = 0x0\n",
      "     len       = 170\n",
      "     id        = 0\n",
      "     flags     = DF\n",
      "     frag      = 0\n",
      "     ttl       = 64\n",
      "     proto     = tcp\n",
      "     chksum    = 0xba68\n",
      "     src       = 192.168.0.118\n",
      "     dst       = 40.79.150.120\n",
      "     \\options   \\\n",
      "###[ TCP ]###\n",
      "        sport     = 51620\n",
      "        dport     = https\n",
      "        seq       = 1636650060\n",
      "        ack       = 3535114702\n",
      "        dataofs   = 8\n",
      "        reserved  = 0\n",
      "        flags     = PA\n",
      "        window    = 2048\n",
      "        chksum    = 0x469a\n",
      "        urgptr    = 0\n",
      "        options   = [('NOP', None), ('NOP', None), ('Timestamp', (4040933642, 226530711))]\n",
      "###[ Raw ]###\n",
      "           load      = b'\\x17\\x03\\x03\\x00q\\xc5\\xf0\\x94G<UOP\\xa4Q`\\n\\x93\\xe6\\xf92P\\xd3\\xd2\\x91\\x9a\\x87<\\xad\\x8d\\xd9\\xacA\\xbd\\xa9I\\x8e)h\\xac\\xcf\\xb3\"=\\xf7s\\xa2Yd\\x109\\x8e\\xccT\\x13$\\xe8\\xcb\\x08T\\x86\\xb4\\x83\\xf1\\xb1\\x06f\\x85\\xc9o\\x9a\\x95\\x1c\\x03\\x7f@\\x0f\\xeb<#i\\xe8u0\\xe4\\x81\\xe1#\\xb6\\x81\\x85\\xd9\\x96\\xb4k-\\xeb0\\xc5\\xa6vH[\\x1d\\xd9\\xce\\xbf\\x88\\xf9\\x87<Rq\\xaf \\x0f\\x12\\xce'\n",
      "\n",
      "###[ Ethernet ]###\n",
      "  dst       = d8:07:b6:ec:33:a2\n",
      "  src       = 0e:11:78:36:0a:ba\n",
      "  type      = IPv4\n",
      "###[ IP ]###\n",
      "     version   = 4\n",
      "     ihl       = 5\n",
      "     tos       = 0x0\n",
      "     len       = 1480\n",
      "     id        = 0\n",
      "     flags     = DF\n",
      "     frag      = 0\n",
      "     ttl       = 64\n",
      "     proto     = tcp\n",
      "     chksum    = 0xb54a\n",
      "     src       = 192.168.0.118\n",
      "     dst       = 40.79.150.120\n",
      "     \\options   \\\n",
      "###[ TCP ]###\n",
      "        sport     = 51620\n",
      "        dport     = https\n",
      "        seq       = 1636650178\n",
      "        ack       = 3535114702\n",
      "        dataofs   = 8\n",
      "        reserved  = 0\n",
      "        flags     = A\n",
      "        window    = 2048\n",
      "        chksum    = 0x53de\n",
      "        urgptr    = 0\n",
      "        options   = [('NOP', None), ('NOP', None), ('Timestamp', (4040933642, 226530711))]\n",
      "###[ Raw ]###\n",
      "           load      = b'\\x17\\x03\\x03\\x17\\x97\\xa1_yG\\xee\\xcax\\x89\\xc9\\x03\\xff\\xd6y\\xab\\x9d7\\x1b&\\xbd\\xfeu\\x1c# (\\x10!>|\\xe1\\x95)\\x0c\\xf3\\xde\\xfdRq\\x87\\x9e/^WS)\\x97(\\xfcH\\x91\\x84|\\xad$\\xeb\\x853\\xf0:\\x97$\\xee\\x15\\xefT\\x02\\xfd\\xe2\\xa4`4\\xd3HH\\x92M=\\x04SC\\x97/\\xe20\\x85W\\xe7,\\xd2\\x9c#\\x8a\\xdf\\x05\\xd4Ii\\xf2\\xa4\\xa1U\\xefP=*&%\\xb8D\\xb2,\\xd8rSk\\xb6\\xee}\\xcb\\x10/\\xe0\\x83u\\xb2\\x9e\\xd4F\\x93\\xb2\\xd1G\\x05\"l\\xb3\\x1a\\xb7D\\x8d6\\x8f\\x0e~\\xbc\\x90\\xbd)*\\x85dS\\xb4\\xeb\\x1a\\xe9\\xec\\xfc\\x88\\x91\\x864\\xab\\xc9g.\\xd1\\xc8\\x9d%\\xe7_\\xd9:gM\\xef$\\xc4\\xb0a\\xd5\\xbe\\xc7}\\xddx\\x8d\\\\\\xb1\\xdbs]k}\\xe3\\x90d\\x04\\xd5\\xc0m|\\xe1;g\\xd2\\xd4n\\x8e`\\x89\\xb6\\xbe\\xe9\\x9e5b\\x97s\\x0fy.\\xad\\x9d\\xc3\\x17w&#\\xd6\\x8a\\xbe9\\x1a\\xcc_7\\xba\\xc9H\\xaa\\xc2\\xc0y\\xf8h\\xe3_vN\\xb4\\xd9\\xe0\"\\xfc\\xfd\\xc9\\x81q\\xd0\\x98_vG\\xf91\\xe9\\xbb\\x0e\\x94\\xa4\\xd69%\\xed\\xe79kz\\xc9h\\x8c.y3\\xa5:\\x9c\\x04\\x07d\\xfd{\\x92\\x1e\\xfa\\x1fe\\xe1k\\x93\\x10O\\x820Q\\xea\\xebI\\x84=8Y\\xda\\xff\\xd6)(\\x88\\x01@G\\x8d\\xc0&\\xc9m\\'\\xb0\\xae\\xcea\\x8d\\xea\\xfc\\x1e@\\x1d\\x82\\xa9\\xd2\\xe2b\\x93\\x02/\\xaa\\'\\xf1\\x99I\\x16\\xc4\\xb6\"\\xfck\\xed~\\x97\\xe2\\x03%zT;\\xf2\\xf5\\xcd\\x85Y}!\\x90w>\\x18\\x17\\xa8B\\x9b\\x86lV\\x99\\xab\\x0e\\xa6\\x97\\xa6\\xf6$\\xe1\\xb195\\x7f%\\x1a\\x89\\x02\\x07\\x05F\\x98oD\\x80^)\\x9d\\xdahI\\xdf\\xc6\\xfc\\x9a\\xb2\\xec^\\x15\\x1eP\\xdb\\xfe\\xf3KN\\x82\\xa4\\xef\\xb9\\xb0\\xac\\xc7\\x00\\xc4\\x96\\xca\\xce\\x99\\x16V\\xe3s\\xd8DC\\x01\\x9c\\xb53\\xff\\xbd&~L\\xbe]\\xf2\\xed5\\xafUD\\x11\\xfb\\xa9B\\xdc\\xb7\\xdaJ\\xe2\\xa4Da!6{\\xea\\xe0\\xf2\\xe0\\xadV\\x1dM\\xf8e\\xe1J\\xb4k-L\\xe9Z\\r-\\'H\\x83\\x01T}\\x17\\x89\\x18O\\xcd\\x8f\\xd4\\xad\\xdf\"0&\\xef\\x90\\xaek\\xe3+M\\xa5/4*#\\x8diR\\xf3\\xafk\\x16x\\x92\\x03\\xcd\\xcb\\x9b\\xda\\xf06\\x03r\\x89\\x92\\xf4\\xc7\\xf9\\x8d^ru\\xd3\\x98G\\xe6\\xc2\\xa2a\\xd5\\x18\\x12DD\\x0f{\\xde\\xeeI\\x0b\\x1d\\x0b\\xf0\\xa20\\xe1\\xbcVsA\\xdb%\\x05\\x86\\xe6\\x83\\xb0<z5\\xae\\xad\\xe1\\x04\\xbb\\xabb\\xc9t\\xca\\xc5\\x0ebpg,W\\x7f\"\\x15\\x1dt,\\xdf\\xefKH\\x8cc\\xb7k\\xee\\xb4\\xd6Y\\xea?\\x8dm^\\x88Q\\x7f\\xad\\x85\\xdfe\\x9d~P\\xf2\\xa5\\xe8\"2\\xe4\\xfdB\\x04\\xe6\\x8c\\xc8\\x08#\\xba\\xa0}Vh=\\x1e\\x93\\xd2N5\\x83\\x1e\\\\\\xae\\xc6\\x06A-K\\xc4\\xdc\\xf9\\xde\\x158\\xec\\x0e\\x8aj\\xa9?\\xb4S\\xeen\\xf0\\x18\\xe095\\xcdD/fC\\xf7%f\\x95\\xe9\\xdav\\x13\\xd2\\xb5h\\x12\\xb5\\xf8\\xf0\\xe9\\xc2\\x863x\\x9d\\x85\\xbd\\xb7\\x11:\\x1a7\\x1d\\xbc\\xb0\\xbb)\\xb1JC\\xf9HfY\\xe8T\\x16\\x08\\r\\xf4|\\xee\\xa7Vz\\x0c\\x15\\xd8>\\x9e\\x97\\xd2\\xa0\\xcf\\xf7#\\xbbMC\\xbe\\x9cJ\\xf4q%\\x06d\\x12x}v\\x0e\\xacm\\xa9=\\xe3\\n\\x05\\xf6\\xf6o\\xd6\\xa2 \\xab\\xfe-\\x14\\xf9\\xa7l\\xa0\\xb8\\xb5]Wg\\xf4(\\xe2.M\\x8c\\xac\\xb6\\xd6m\\x90\\x87\\x02\\x15\\xec:\\xc0\\x16\\xc2\\xdf\\x8d\\xa2H%\\xc1\\x88m\\x89m\\xe6)g&\\xc2\\xc5\\x9d?m\\x90:\\xf3\\xe91I_\\xe3\\\\w6\\xdc\\xba12\\xb5\\x82N\\xa2o\\xf0f\\xd3\\xd0\\xe2[\\x8f\\x1e\\xb2d\\xf8\\x9b\\x94\\xdfkEYJ6U;\\x95\\xc3\\xee4\\xc8N\\x9a\\x1f\\x16\\xce\\x1d\\x00\\x04#\\x8cw*\\xfbl\\xe4\\xe4#\\xc3\\xfd\\xe9\\x1b;D\\xd1\\xc5\\xf8\\xfd}hd@>\\x83\\x87\\xc9\\xbc8\\xfa\\xd0\\'I\\n\\xc0\\xe3\\xc0\\xbe,\\x9dTl\\x9c\\x91\\xa4\\xf8Oh!}|nAcs\\xa6\\xaa\\x7fvl\\xf7BNj\\x1f\\xcd\\x7f9\\x16|\\x00\\xdd\\xbb\\x19\\xb6\\\\\\xb4^\\xd6J\\xc3`b\\xfd\\xa7\\t\\x96Y\\xcc\\x08V,\\x17\\xf1U\\xe2\\xaa\\xb4G\\xce\\x94\\x9d\\xd4\\x9e\\x99\\xfa\\\\\\xd0\\xf6%\\xe2\\xa7\\xa3E\\\\\\xb3\\xe9\\x1a\\xba\\xf3\\x0b\\x97\\x0e\\xfa\\xfa\\x9d\\xf1\\x95\\x84H;\\xb0\\'d\\x93\\x89Y\\x87\\xc7\\x0c\\xad\\xed\\xf8\\x94U\\xed\\xcd\\xa5\\xe1\\x84p\\xe2\\xbc\\x8a\\xa9g6Dg\\xc8p\\x97%C\\xd5,U)}\\x02$[\\x93\\xd2\\xbd\\xe4\\xa1\\x88\\x85\\xac\\xd74\"jJ\\x0b\\x96x\\x900\\xcb\\x9b\\xe6\\xa1\\x04\\xb0\\x027\\xc0>C\\xae)\\xf4\\xfa\\x005\\xd0\\xb5o\\xa2\\xdf\\xacv\\xb7R\\xbdj\\xbc\\x96\\xaa\\xbf\\x1d\\x00V\\x7f5X8`\\xa9Q\\xd2YQ\\xad\\xf0\\xe2wG\\x0092\\xf4\\xe4\\xc6g\\xba`\\xc1J\\xf5\\x81\\xb5\\x989\\xaeCDV\\xc8\\x1d\\x8b\\x18\\x99\\x0e\\x95\\xbb\\xa0}\\x1c\\r\\xb0\\xf7\\'\\x1f\\xd2\\xf2\\x9e\\x00\\\\\\x8ci\\x04+\\x11\\x98\\xee-`\\x9d\\x8a\\xf7\\xbb/\\xc1\\xef\\xd4\\xca \\x94=\\xa5\\xf4\\xc6\\xdb\\xe0r+\\xd6\\xfawB\\x9e\\xc1?\\x9f\\x1fUO\\xae\\xf0\\xec\\xe0\\xab\\x1b{y\\x14\\x02\\xe1t+z\\xfb\\xf5\\x8c\\xc9)\\xe3\\x0f\\xcc\\xe5\\xe5\\x08\\x01\\xa6\\xe3\\x0f\\x0fr\\xabX\\tO\\xea^]\\xf5\\xe8\\xfae\\x90\\xbd\\xc5\\xfd\\xce\\x0cVh\\x03a\\x07.Q\\t\\xdal\\xb3\\xe8\\x94#\\xbf\\xf2\\x9d34B~\\xdd\\xd19*\\x01duO\\xa5\\xca\\x930\\x7fm\\xddX\\xd7\\x1d\\x8d\\xcc_u\\x87\\xbe\\x16\\xea\\xde`9B\\xc7}\\x8f\\xf5[-^>\\xd9/\\xf3\\xadi\\xff\\xcb\\xbd\\xba\\xe9\\x03>\\xd2\\x11\\xf2)MhD\\x92\\xa6\\x9a\\x19\\xb9\\xba\\x04\"H\\x93\\xaa\\x1b\\x87\\x8d+\\xcc!3 \\xc6\\xe4Y\\x9e\\x89\\x8bV\\xc6z\\x9f\\x90\\xc8\\xf9\\x8d\\xe0q/\\x9b\\x00\\xde\\xe4\\x86UwqS@\\xb0\\x03\\xe1\\x05\\x087\\xc4\\xdaQ\\x9e\\x93w)\\xef!\\x06\\x85$%\\x7f\\xbe\\xeb[\\xfb\\xe6\\x90@6'\n",
      "\n",
      "###[ Ethernet ]###\n",
      "  dst       = d8:07:b6:ec:33:a2\n",
      "  src       = 0e:11:78:36:0a:ba\n",
      "  type      = IPv4\n",
      "###[ IP ]###\n",
      "     version   = 4\n",
      "     ihl       = 5\n",
      "     tos       = 0x0\n",
      "     len       = 1480\n",
      "     id        = 1\n",
      "     flags     = DF\n",
      "     frag      = 0\n",
      "     ttl       = 64\n",
      "     proto     = tcp\n",
      "     chksum    = 0xb549\n",
      "     src       = 192.168.0.118\n",
      "     dst       = 40.79.150.120\n",
      "     \\options   \\\n",
      "###[ TCP ]###\n",
      "        sport     = 51620\n",
      "        dport     = https\n",
      "        seq       = 1636651606\n",
      "        ack       = 3535114702\n",
      "        dataofs   = 8\n",
      "        reserved  = 0\n",
      "        flags     = A\n",
      "        window    = 2048\n",
      "        chksum    = 0x9f8f\n",
      "        urgptr    = 0\n",
      "        options   = [('NOP', None), ('NOP', None), ('Timestamp', (4040933642, 226530711))]\n",
      "###[ Raw ]###\n",
      "           load      = b'7\\x9b[\\xf3\\xd5\\x14\\x1b\\xa0\\xcc\\tni\\x96k\\x9e\\xeb\\x18SG\\xc4u1\\xa8;\\xcf\\xa8\\x18Z\\xdb\\xb8ZZd?\\x16\\xc5\\xed\\xc8\\x14\\x0e\\xbb\\xf0\\x03\\x1a\\x036\\x93\\xc6\\xdc{\\xde)p\\x8e\\x9e\\xf5N\\xab<\\x0cE\\x04\\xdf?\\xcep\\xdeOF.\\xc7{\\xba\\xbd\\t\\xe7\\xe5S\\xdfk\\x06x\\t\\x83:D\\x08\\x0b\\xben\\xbdq\\xc2\\xa9\\x1aa\\xba\\xb2\\xf09\\x8b\\xcf\\r\\x8aYeu!\\x8b\\x07(\\x15\\x93 \\xbb\\xc5\\xbe=\\x98ts\\xaaE\\x90\\xe9\\x01p\\r/\\xdc\\xfb\\xcf\\xb9\\xc0\\xfaB\\xb1\\xf5\\xfe\\xa4\\xf0\\xe1\\x82\\x05\\xab\\xc0\\xaf\\x99\\r\\xb4\\xc5\\x94>\\x92Z{\\x12\\xa8\\x02F\\x8a:Z\\xc9\\x8b)\\xdep\\x90\\x01\\xb3\\r\\xc7\\x7f\\x10\\xcd\\n\\xcc\\xee(\\xd4\\x88\\xdb\\xfc2\\xaeQ\\xba\\xb8\\xf1Ve\\x0fc\\x92\\x8e\\x16AeH\\x0f\\x13\\xc4\\xd4J{\\xae\\x07@>ko\\x0b\\xf5f\\x1a\\xd2\\xe2E\\xe9uM\\x8e\\xa1\\x9b\\xb7I1\\xe6\\x80.\\x89\\x98\\xd4\\xc0\\xeb\\x10Z@\\xe5\\x02\\xa9\\xf01\\x9c\\xdf\\xefb\\xbbx\\xd9\\x11\\x10~\\xb0 \\xeb\\x81\\xeb\\x85X\\xc5<K\\x15\\xb5\\x8e\\xed\\xc5\"\\x93{V\\x18~\\xcb\\xf3\\xc6\\x0c<\\xd7M\\x029\\x0eq\\xef\\xc6\\xa6{=]1\\xc8H\\x17\\x98\\xac3\\xd4\\xe9\\xea\\\\f\\x8f\\xf4\\x88rCZ\\xb1\\xcb\\xdd\\xcb\\xeb\\xc0\\x7f\\x9c\\x02\\x0c\\x86\\xd0\\xacn\\x86\\x0e\\x03\\x04>\\n\\xba\\xc7\\x1aY\\x9a\\xab\\xc0|\\xac\\x0f\\x17\\xf1\\xd4\\xe2\\xac\\xa6\\n|\\xb0\\x85,\\x08\\xa5\\x89M;JJ#\\x19\\xd0\\xee<+\\x7f\\xa2\\x8fc\\x98l\\xce\\x8a|\\xd3\\xea\\x89\\xfd\\xf3\\xee\\x85\\xbf\\x91\\xa7+\\xc8\\xd5\\xf2\\x97\\xd0\\xa8\\xd1\\xed\\x90\\x06\\x95f/\\xffY_\\xc6\\xcd\\xda7!-}\\xba\\xb6\\xa8\\xb2\\x98R\\x91\\x9c\\xb3\\x00w\\xa73\\xcb\\xb4\\xa1\\xfb\\x1e\\x03Sd\\xae\\xf9\\xd1\\x10s\\x90t\\x9b\\xe2\\x948\\xd1d\\x85x\\xfaV\\x93\\x1d\\x12v&\\xb1m\\x11O\\xf9\\xd0\\xe6\\x8dX\\xeeIi\\xe5e\\x9d\\x81\\xf5\\xfaf\\xa1\\n\\x93\\\\z\\xb6\\xdd\\x1d\\x19t\\x08c\\x97J\\xcd,\\xa7rZ\\xf8*\\'\\xde\\x83q\\xc7A\\x1967Y\\x05\\xc05\\xde)\\xc7\\xe3fL\\x92 uJp|\\x87\\xae\\x1a\\xdd\\xca\\x8b5^7f\\x94jr\\x8b9\\xfe\\x94\\x8c\\x0f\\x96\\x03\\xe4\\xdbk\\x0b\\x8ef\\x0b\\x9b\\xfb\\xf0\\xd0\\xc2\\x95\\x9aB\\xd2\\xf1zX\\xbf\\xdcC\\xbd\\xe7mTj\\xce\\xd9f\\xea\\xca\\x19F\\x1601\\xaa\\x1e\\\\ggB\\xda\\x1fLxz\\xac\\xf1[\\x1f\\x1e+\\xb6p\\xd8 \\xcf<\\xff\\\\\\xf2\\xc1\\xa7\\x0fM{l\\x94\\xe9\\x9cV[[\\xfd\\xcd[\\xb9n\"\\xde\\xb5:=\\x86\\xae\\xf8;fj\\xb8#\\xa0\\xb6\\xdfF*j\\xd3qsSM;\\x9f\\x1a\\xe7\\x0e-r\\x1b\\xf6Z\\xdb\\x8e:D\\xf8}s|\\x12\\xea\\xf4\\x10\\xf4\\x073\\x9b;\\xa9.\\xc8\\xc7\\x0ce\\xdfr\\xc1}\\x80T\\xd6\\x05&\\xb1!v\\xdd\\xfe\\xfc\\xef\\xce\\xe4Np\\x7fzi{\\xa3\\xd0\\xc5\\x19\\xe6\\x10[\\xa1\\xe0\\xf9\\x01o/\\xcf\\x14\\xbc\\x93 \\xe9h\\xe0v\\xce\\xd7\\x1e\\xccN(\\xa0\\x9bj\\xa5r\\xf75\\x8eF\\x0c\\t\\x96\\xdfOlI\\x1f\\xf2l\\xd7\\xb9C\\xa6\\xb0h\\x9b\\x92\\x112\\xf6_(g\\xd2\\xa5\\xaf\\xab\\xf9\\x1b\\xe8\\xfb\\x91\\x185\\x0e\\xe3\\xda\\x08\\xf7N\\x89\\x06\\x9d\\xc49\\xffa\\x12\\x19\\xe1\\x87\\xb6\\xdaX\\xf1\\x96\\xbc\\x0e\\xa1>\\x1f\\x80\\xae\\xd7\\xa3},D\\x89\\xac\\xf7\\xfaC(F\\xd1\\x90f,\\xa3\\x17\\xd23\\xa7\\xf2|V\\x81\\x16\\x13B\\xd1\\xa1B\\x07?\\xbd\\xa1\\xc4\\xf5[\\xe2\\\\\\xa9S\\x18\\xdb\\x15\\xc7\\xab}d\\x97\\xf2\\xe4\\xa5\\xffC\\x01\\xe1\\x04\\x14\\xb4m.4z\\xc1\\x9b\\xc8.!\\xady*m\\xb0x\\x99\\xdd\\xb0z\\xb6A\\x94\\xbc[c`s\\x90\\xc9\\xd0\\xfbN\\xcd\\xcd\\x19\\xe7\\xfb\\xd3\\xd7v\\xb0\\xb6vmH\\x8b\\xb4Z\\xfdS\\x06\\xd3\\x0f\\xad\\xf8\\xe8\\x06R\\xd9\\rUx\\'\\x18\\xd4\\xe4,\\x06\\x7f\\x1a\\xc0\\xc7\\xa8\\x03\\xfc\\xc2\\xd5\\x89N!\\xfb\\\\\\xac[\\x83o\\xa8\\x8b+!)%d4\\x83\\x12\\xd4B\\x8d\\xf0\\x8c\\xcaF\\xa6\\x86\\\\Jp\\xb6\\xda\\xb4cZ[\"a\\xa18\\\\6\\x9a\\xfe]\\x98\\xc9\\x8b\\x16>{F\\x87Km\\xc6\\xa2w\\xf0\\xd9\\xb3\\x10\\xdd\\xb3\\xc1\\x92\\x0b\\x95\\x82W\\xaf\\xa4\\x82\\x94\\xa5\\x04]F)\\xd5?Yz\\x8b\\xed\\x82\\xde<*\\xa6}\\x93\\x89\\x8db\\xb3\\xec\\xdb\\xbaN_uJW\\t\\x98\\x1e\\x96\\xa9\\xd8\\x7f\\x15t\\xb4,o\\xb5\\xe8C\\x88*\\x07\\x82~\\xd4E\\xd974z\\x8b,\\x9c,H\\x17\\xd3U\\xb2\\xc2\\xa4\\x82\\x03\\xf4\\xc1R\\xc2\\xf3\\xa5\\x9b\\x9dH\\xc3\\xa1\\xa5g\\xd6\\x82\\xf9A\\xb0\\xfe\\x1d\\x7f\\xba\\x01_\\x93H\\n\\xce\\xa7Wa\\x93\\nq\\x92\\x98\\x89(\\xc5\\xc0\\x7f\\xc7\\xf6IT\\x01cu\\xec\\xeeP4\\xe2L\\xac\\x7f\\x8f\\xc0\\xfdGg\\x9b.BxN\\x01[\\x08G\\x17DN!o\\xae\\xeepH\\x91\\xf0\\xc0\\x8c\\xe4s\\n\\xca\\xbd\\x85(S\\xc7\\x08\\x983\\xe5Y/eT$e\\xefx\\xc1(23`\\xdd\\xb1\\xcf\\xafF\\x18\\xe0`n\\'\\xb1\\xa2\\x91\\xdc\\xd3\\\\\\xdf\\xd7\\xf2\\x9f\\xa8\\xcaV\\xbe`C\\x1e$4\\x80\\x06\\xd4\\x82\\xbe\\x97\\xe1\\x1f\\xf1~.1~Z,vF.\\x1b\\xce\\x93Y\\xbe\\xca\\xef\\x13\\x04\\xf7\\xc4\\xcc2\"\\xf2.Y\\x84\\xa9\\xae\\xa7\\x88~\\x17+\\xc6\\xe0\\xdewlj\\xdc\\xcbO\\xc4\\xd5Ik\\xae\\xc5C7BR\\x01\\xc2\\xf1f\\xef\\x98e\\x0cc\\x06\\xf2?a\\x10\\xa3l6Co\\xbe\\xdb\\x81\\xd1\\xdb\\xacI\\x06\\xc7\\x93\\xde\\xda\\xc8uE$}\\xb5:\\x83\\xdcasu\\x91Zb_2E\\xd6<R\\x87\\x19\\x98\\x8cuB\\xabV?\\x81{\\x8a\\xa4?Q\\xce\\xec\\x0f\\x0c\\x935u\\x92|3\\x00\\x9b@~\\xbb\\xe7]\\xb4\\x9d/\\xb1g\\xfboh\\xe8\\x8d7?\\xb9\\x94\\xd2\\x07\\x94d\\x02R\\xdd\\xc2:\\xb2Wj\\x82\\xc5\\x1e\\x0b\\x1f\\xc4\\xd4\\xa7\\xef\\x8b\\xf4\\xc9\\xddJr\\xbe\\xe4\\x877K\\xff\\x9bI\\x94\\x8e\\xe5\\xbe\\x9aM\\xa9\\xa7B\\xfa\\xe9\\x7f$\\xcf\\xa9u'\n",
      "\n"
     ]
    },
    {
     "data": {
      "text/plain": [
       "<Sniffed: TCP:3 UDP:0 ICMP:0 Other:0>"
      ]
     },
     "execution_count": 5,
     "metadata": {},
     "output_type": "execute_result"
    }
   ],
   "source": [
    "#Bacis of how to callback a packet information\n",
    "\n",
    "def pkt_callback(packet):\n",
    "    packet.show()\n",
    "\n",
    "sniff(prn= pkt_callback, count= 3)"
   ]
  },
  {
   "cell_type": "code",
   "execution_count": 8,
   "metadata": {},
   "outputs": [
    {
     "name": "stdout",
     "output_type": "stream",
     "text": [
      "Packet :192.168.0.118 -> 224.0.0.251 | Protocol:UDP\n",
      "Packet :192.168.0.118 -> 172.224.35.135 | Protocol:UDP\n",
      "Packet :192.168.0.118 -> 172.224.35.135 | Protocol:UDP\n",
      "Packet :192.168.0.118 -> 172.224.35.135 | Protocol:UDP\n",
      "Packet :172.224.35.135 -> 192.168.0.118 | Protocol:UDP\n",
      "Packet :172.224.35.135 -> 192.168.0.118 | Protocol:UDP\n",
      "Packet :172.224.35.135 -> 192.168.0.118 | Protocol:UDP\n"
     ]
    },
    {
     "data": {
      "text/plain": [
       "<Sniffed: TCP:0 UDP:9 ICMP:0 Other:1>"
      ]
     },
     "execution_count": 8,
     "metadata": {},
     "output_type": "execute_result"
    }
   ],
   "source": [
    "#how to single out key information and dispalying it. \n",
    "\n",
    "def process_pkt(packet):\n",
    "    if packet.haslayer(IP):\n",
    "        protocol = \"TCP\" if packet.haslayer(TCP) else \"UDP\" if packet.haslayer(UDP) else \"Other\"\n",
    "        print(f\"Packet :{packet[IP].src} -> {packet[IP].dst} | Protocol:{protocol}\")\n",
    "\n",
    "sniff(prn=process_pkt,count=10)"
   ]
  },
  {
   "cell_type": "code",
   "execution_count": 15,
   "metadata": {},
   "outputs": [
    {
     "name": "stdout",
     "output_type": "stream",
     "text": [
      "DNS Request: www.youtube.com.\n",
      "DNS Request: www.youtube.com.\n",
      "DNS Request: www.youtube.com.\n",
      "DNS Request: www.youtube.com.\n",
      "DNS Request: i.ytimg.com.\n",
      "DNS Request: i.ytimg.com.\n",
      "DNS Request: i.ytimg.com.\n",
      "DNS Request: i.ytimg.com.\n",
      "DNS Request: www.google.com.\n",
      "DNS Request: www.google.com.\n",
      "DNS Request: www.google.com.\n",
      "DNS Request: www.google.com.\n",
      "DNS Request: rr5---sn-5hne6ns6.googlevideo.com.\n",
      "DNS Request: rr5---sn-5hne6ns6.googlevideo.com.\n",
      "DNS Request: rr5---sn-5hne6ns6.googlevideo.com.\n",
      "DNS Request: rr5---sn-5hne6ns6.googlevideo.com.\n",
      "DNS Request: www.gstatic.com.\n",
      "DNS Request: www.gstatic.com.\n",
      "DNS Request: www.gstatic.com.\n",
      "DNS Request: www.gstatic.com.\n",
      "DNS Request: accounts.youtube.com.\n",
      "DNS Request: accounts.youtube.com.\n",
      "DNS Request: accounts.youtube.com.\n",
      "DNS Request: accounts.youtube.com.\n",
      "DNS Request: rr1---sn-5jucgv5qc5oq-cagk.googlevideo.com.\n",
      "DNS Request: rr1---sn-5jucgv5qc5oq-cagk.googlevideo.com.\n",
      "DNS Request: rr1---sn-5jucgv5qc5oq-cagk.googlevideo.com.\n",
      "DNS Request: rr1---sn-5jucgv5qc5oq-cagk.googlevideo.com.\n",
      "DNS Request: rr5---sn-q4fzen7e.googlevideo.com.\n",
      "DNS Request: rr5---sn-q4fzen7e.googlevideo.com.\n",
      "DNS Request: rr5---sn-q4fzen7e.googlevideo.com.\n",
      "DNS Request: rr5---sn-q4fzen7e.googlevideo.com.\n",
      "DNS Request: rr5---sn-q4fzen7e.googlevideo.com.\n",
      "DNS Request: rr5---sn-q4fzen7e.googlevideo.com.\n",
      "DNS Request: rr5---sn-q4fzen7e.googlevideo.com.\n",
      "DNS Request: rr5---sn-q4fzen7e.googlevideo.com.\n",
      "DNS Request: main.vscode-cdn.net.\n",
      "DNS Request: main.vscode-cdn.net.\n",
      "DNS Request: main.vscode-cdn.net.\n",
      "DNS Request: main.vscode-cdn.net.\n",
      "DNS Request: rr3---sn-q4fl6nlz.googlevideo.com.\n",
      "DNS Request: rr3---sn-q4fl6nlz.googlevideo.com.\n",
      "DNS Request: rr3---sn-q4fl6nlz.googlevideo.com.\n",
      "DNS Request: rr3---sn-q4fl6nlz.googlevideo.com.\n",
      "DNS Request: accounts.youtube.com.\n",
      "DNS Request: accounts.youtube.com.\n",
      "DNS Request: accounts.youtube.com.\n",
      "DNS Request: accounts.youtube.com.\n",
      "DNS Request: suggestqueries-clients6.youtube.com.\n",
      "DNS Request: suggestqueries-clients6.youtube.com.\n",
      "DNS Request: suggestqueries-clients6.youtube.com.\n",
      "DNS Request: suggestqueries-clients6.youtube.com.\n",
      "DNS Request: i.ytimg.com.\n",
      "DNS Request: i.ytimg.com.\n",
      "DNS Request: i.ytimg.com.\n",
      "DNS Request: i.ytimg.com.\n",
      "DNS Request: yt3.ggpht.com.\n",
      "DNS Request: yt3.ggpht.com.\n",
      "DNS Request: yt3.ggpht.com.\n",
      "DNS Request: yt3.ggpht.com.\n"
     ]
    },
    {
     "data": {
      "text/plain": [
       "<Sniffed: TCP:0 UDP:60 ICMP:0 Other:0>"
      ]
     },
     "execution_count": 15,
     "metadata": {},
     "output_type": "execute_result"
    }
   ],
   "source": [
    "def dns_callback(packet):\n",
    "    if packet.haslayer(DNS):\n",
    "        print(f\"DNS Request: {packet[DNS].qd.qname.decode()}\")\n",
    "\n",
    "\n",
    "sniff(filter=\"udp port 53\", prn=dns_callback, count=60)"
   ]
  },
  {
   "cell_type": "code",
   "execution_count": 18,
   "metadata": {},
   "outputs": [
    {
     "data": {
      "text/plain": [
       "<Sniffed: TCP:10 UDP:0 ICMP:0 Other:0>"
      ]
     },
     "execution_count": 18,
     "metadata": {},
     "output_type": "execute_result"
    }
   ],
   "source": [
    "failed_logins = {}\n",
    "\n",
    "def detect_bruteforce(packet):\n",
    "    if packet.haslayer(TCP) and packet[TCP].flags == 2:\n",
    "        src_ip = packet[IP].src\n",
    "        print(packet[IP].src,\"->\" ,packet[IP].dst)\n",
    "        failed_logins[src_ip]= failed_logins.get(src_ip,0) + 1\n",
    "        if failed_logins[src_ip] > 5:\n",
    "            print(f\"Potential brute-force attack from {src_ip}\")\n",
    "\n",
    "sniff(filter='tcp', prn=detect_bruteforce, count= 10)"
   ]
  },
  {
   "cell_type": "code",
   "execution_count": null,
   "metadata": {},
   "outputs": [],
   "source": []
  }
 ],
 "metadata": {
  "kernelspec": {
   "display_name": "Python 3",
   "language": "python",
   "name": "python3"
  },
  "language_info": {
   "codemirror_mode": {
    "name": "ipython",
    "version": 3
   },
   "file_extension": ".py",
   "mimetype": "text/x-python",
   "name": "python",
   "nbconvert_exporter": "python",
   "pygments_lexer": "ipython3",
   "version": "3.9.6"
  }
 },
 "nbformat": 4,
 "nbformat_minor": 2
}
